{
 "cells": [
  {
   "cell_type": "code",
   "execution_count": 1,
   "metadata": {},
   "outputs": [],
   "source": [
    "using Unitful\n",
    "using UnitfulUS\n",
    "using Revise"
   ]
  },
  {
   "cell_type": "code",
   "execution_count": 2,
   "metadata": {},
   "outputs": [
    {
     "data": {
      "text/plain": [
       "± (generic function with 1 method)"
      ]
     },
     "execution_count": 2,
     "metadata": {},
     "output_type": "execute_result"
    }
   ],
   "source": [
    "# Register jupyter notebook as a source of units \n",
    "# for new units we define\n",
    "Unitful.register(Main);\n",
    "@unit HP \"HP\" Horsepower 0.7456999*u\"kW\" false\n",
    "@unit cc \"cc\" CubicCentimeter 1u\"cm^3\" false\n",
    "@derived_dimension VolumeFlow  Unitful.𝐋^3 / Unitful.𝐓\n",
    "±(x, dev) = (x-dev, x+dev)"
   ]
  },
  {
   "cell_type": "code",
   "execution_count": 3,
   "metadata": {},
   "outputs": [
    {
     "data": {
      "text/plain": [
       "knock_frequency"
      ]
     },
     "execution_count": 3,
     "metadata": {},
     "output_type": "execute_result"
    }
   ],
   "source": [
    "\"\"\" \n",
    "    knock_frequency(bore_size::Unitful.Length)\n",
    "Find the fundamental knock frequency of an engine given the bore size.\n",
    "Knock frequency is proportional primarily to cylinder bore. \n",
    "Frequency is also effected by temperatures (higher temp = higher freq) \n",
    "TI says 400Hz deviation from temp: [PDF here](https://bit.ly/3LqTOgu)\n",
    "\"\"\"\n",
    "function knock_frequency(bore::Unitful.Length)\n",
    "    v_sound_at_combustion = 900u\"m/s\";\n",
    "    return (v_sound_at_combustion / (π * 0.5 * bore) |> u\"Hz\") ± 400u\"Hz\"\n",
    "end"
   ]
  },
  {
   "cell_type": "code",
   "execution_count": 4,
   "metadata": {},
   "outputs": [
    {
     "name": "stdout",
     "output_type": "stream",
     "text": [
      "search: \u001b[0m\u001b[1mk\u001b[22m\u001b[0m\u001b[1mn\u001b[22m\u001b[0m\u001b[1mo\u001b[22m\u001b[0m\u001b[1mc\u001b[22m\u001b[0m\u001b[1mk\u001b[22m\u001b[0m\u001b[1m_\u001b[22m\u001b[0m\u001b[1mf\u001b[22m\u001b[0m\u001b[1mr\u001b[22m\u001b[0m\u001b[1me\u001b[22m\u001b[0m\u001b[1mq\u001b[22m\u001b[0m\u001b[1mu\u001b[22m\u001b[0m\u001b[1me\u001b[22m\u001b[0m\u001b[1mn\u001b[22m\u001b[0m\u001b[1mc\u001b[22m\u001b[0m\u001b[1my\u001b[22m\n",
      "\n"
     ]
    },
    {
     "data": {
      "text/latex": [
       "\\begin{verbatim}\n",
       "knock_frequency(bore_size::Unitful.Length)\n",
       "\\end{verbatim}\n",
       "Find the fundamental knock frequency of an engine given the bore size. Knock frequency is proportional primarily to cylinder bore.  Frequency is also effected by temperatures (higher temp = higher freq)  TI says 400Hz deviation from temp: \\href{https://bit.ly/3LqTOgu}{PDF here}\n",
       "\n"
      ],
      "text/markdown": [
       "```\n",
       "knock_frequency(bore_size::Unitful.Length)\n",
       "```\n",
       "\n",
       "Find the fundamental knock frequency of an engine given the bore size. Knock frequency is proportional primarily to cylinder bore.  Frequency is also effected by temperatures (higher temp = higher freq)  TI says 400Hz deviation from temp: [PDF here](https://bit.ly/3LqTOgu)\n"
      ],
      "text/plain": [
       "\u001b[36m  knock_frequency(bore_size::Unitful.Length)\u001b[39m\n",
       "\n",
       "  Find the fundamental knock frequency of an engine given the bore size. Knock\n",
       "  frequency is proportional primarily to cylinder bore. Frequency is also\n",
       "  effected by temperatures (higher temp = higher freq) TI says 400Hz deviation\n",
       "  from temp: PDF here (https://bit.ly/3LqTOgu)"
      ]
     },
     "execution_count": 4,
     "metadata": {},
     "output_type": "execute_result"
    }
   ],
   "source": [
    "?knock_frequency"
   ]
  },
  {
   "cell_type": "code",
   "execution_count": 5,
   "metadata": {},
   "outputs": [
    {
     "data": {
      "text/plain": [
       "knock_frequency (generic function with 2 methods)"
      ]
     },
     "execution_count": 5,
     "metadata": {},
     "output_type": "execute_result"
    }
   ],
   "source": [
    "struct Engine \n",
    "    bore::Unitful.Length;\n",
    "    stroke::Unitful.Length;\n",
    "    cylinders::Signed;\n",
    "    compression::Real;\n",
    "    max_torq_freq::Unitful.Frequency;\n",
    "    max_power_freq::Unitful.Frequency;\n",
    "end\n",
    "\n",
    "volume(eng::Engine) = π*eng.bore^2 * eng.stroke |> u\"cc\"\n",
    "knock_frequency(eng::Engine) = knock_frequency(eng.bore)"
   ]
  },
  {
   "cell_type": "code",
   "execution_count": 7,
   "metadata": {},
   "outputs": [
    {
     "data": {
      "text/plain": [
       "Engine(84 mm, 79.2 mm, 4, 8.5, 3200 rpm, 5900 rpm)"
      ]
     },
     "execution_count": 7,
     "metadata": {},
     "output_type": "execute_result"
    }
   ],
   "source": [
    "lancia_bore = 84u\"mm\";\n",
    "lancia_stroke = 79.2u\"mm\";\n",
    "lancia_compression = 8.5;\n",
    "lancia = Engine(lancia_bore, lancia_stroke, 4, 8.5, 3200u\"rpm\", 5900u\"rpm\")"
   ]
  },
  {
   "cell_type": "code",
   "execution_count": 8,
   "metadata": {},
   "outputs": [
    {
     "data": {
      "text/plain": [
       "(6420.9261325098 Hz, 7220.9261325098 Hz)"
      ]
     },
     "execution_count": 8,
     "metadata": {},
     "output_type": "execute_result"
    }
   ],
   "source": [
    "knock_frequency(lancia_bore)"
   ]
  },
  {
   "cell_type": "code",
   "execution_count": null,
   "metadata": {},
   "outputs": [],
   "source": []
  }
 ],
 "metadata": {
  "kernelspec": {
   "display_name": "Julia 1.7.1",
   "language": "julia",
   "name": "julia-1.7"
  },
  "language_info": {
   "file_extension": ".jl",
   "mimetype": "application/julia",
   "name": "julia",
   "version": "1.7.1"
  }
 },
 "nbformat": 4,
 "nbformat_minor": 4
}
