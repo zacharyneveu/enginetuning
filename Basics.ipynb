{
 "cells": [
  {
   "cell_type": "markdown",
   "metadata": {},
   "source": [
    "# Lancia Tuning Basic Calculators"
   ]
  },
  {
   "cell_type": "code",
   "execution_count": 1,
   "metadata": {},
   "outputs": [],
   "source": [
    "using Unitful\n",
    "using UnitfulUS\n",
    "using Statistics"
   ]
  },
  {
   "cell_type": "code",
   "execution_count": 2,
   "metadata": {},
   "outputs": [],
   "source": [
    "# Register jupyter notebook as a source of units \n",
    "# for new units we define\n",
    "Unitful.register(Main);\n",
    "@unit HP \"HP\" Horsepower 0.7456999*u\"kW\" false\n",
    "@unit cc \"cc\" CubicCentimeter 1u\"cm^3\" false\n",
    "@derived_dimension VolumeFlow  Unitful.𝐋^3 / Unitful.𝐓"
   ]
  },
  {
   "cell_type": "markdown",
   "metadata": {},
   "source": [
    "### Lancia Specific Variables"
   ]
  },
  {
   "cell_type": "code",
   "execution_count": 3,
   "metadata": {},
   "outputs": [],
   "source": [
    "# General\n",
    "lancia_ccs = 1756u\"cc\";\n",
    "lancia_cylinders = 4;\n",
    "# Fueling\n",
    "lancia_injector_maxf = 158u\"cm^3/minute\";\n",
    "lancia_fuel_pump_maxp = 72u\"psi\";\n",
    "# Boost\n",
    "lancia_max_boost = 10u\"psi\";"
   ]
  },
  {
   "cell_type": "markdown",
   "metadata": {},
   "source": [
    "### General Constants"
   ]
  },
  {
   "cell_type": "code",
   "execution_count": 4,
   "metadata": {},
   "outputs": [
    {
     "data": {
      "text/plain": [
       "43.51132131906277 psi"
      ]
     },
     "execution_count": 4,
     "metadata": {},
     "output_type": "execute_result"
    }
   ],
   "source": [
    "stoic_afr_gas = 14.68;\n",
    "mass_gas = 6.259u\"lb/gal_us\";\n",
    "injector_pres_nom = 3u\"bar\";\n",
    "# test the injector pressure convert to psi\n",
    "uconvert(u\"psi\", injector_pres_nom);"
   ]
  },
  {
   "cell_type": "markdown",
   "metadata": {},
   "source": [
    "Simple conversion functions to get from `lbs/hr` to `cc/min` and back quickly"
   ]
  },
  {
   "cell_type": "code",
   "execution_count": 5,
   "metadata": {},
   "outputs": [],
   "source": [
    "gas_lb_cc(lb) = u\"cm^3/minute\"(lb / mass_gas);\n",
    "gas_cc_lb(cc) = u\"gal_us/hr\"(cc) * mass_gas;"
   ]
  },
  {
   "cell_type": "markdown",
   "metadata": {},
   "source": [
    "# Injector Calculator\n",
    "\n",
    "> BSFC = brake specific fuel consumption - effeciency measure per horsepower of engine. The Turbo and NA BSFC values are taken from Greg Banish's book. Currently taking the mean of the upper/lower bounds he specs, conservatively we might even want to take the max values.\n",
    "\n",
    "## Current Injector Power Capacity\n",
    "Calculate max power possible with our current 158cc injectors with a 20% margin for safety at stock pressure"
   ]
  },
  {
   "cell_type": "code",
   "execution_count": 6,
   "metadata": {},
   "outputs": [
    {
     "data": {
      "text/plain": [
       "max_power"
      ]
     },
     "execution_count": 6,
     "metadata": {},
     "output_type": "execute_result"
    }
   ],
   "source": [
    "\"\"\"\n",
    "Get the maximum power a set of injectors can make with the given margin and turbo\n",
    "\"\"\"\n",
    "function max_power(inj_size::VolumeFlow, turbo::Bool=true, cylinders::Int=4, margin=0.2)\n",
    "    BSFC_turbo = mean([0.55u\"lb/(HP*hr)\", 0.7u\"lb/(HP*hr)\"]);\n",
    "    BSFC_na = mean([0.3u\"lb/(HP*hr)\", 0.5u\"lb/(HP*hr)\"]);\n",
    "    # TODO: add margin\n",
    "    fuel_cap_per_cylinder = inj_size |> gas_cc_lb;\n",
    "    fuel_capacity = fuel_cap_per_cylinder * cylinders * (1-margin);\n",
    "    max_power = turbo ? fuel_capacity / BSFC_turbo : fuel_capacity / BSFC_na;\n",
    "    return max_power;\n",
    "end"
   ]
  },
  {
   "cell_type": "code",
   "execution_count": 7,
   "metadata": {},
   "outputs": [
    {
     "data": {
      "text/plain": [
       "80.25463430004476 HP"
      ]
     },
     "execution_count": 7,
     "metadata": {},
     "output_type": "execute_result"
    }
   ],
   "source": [
    "max_power(lancia_injector_maxf, true)"
   ]
  },
  {
   "cell_type": "markdown",
   "metadata": {},
   "source": [
    "## Calculate Injector Size for Power Goal\n",
    "Given a power goal, what size injectors do we need to make this happen?"
   ]
  },
  {
   "cell_type": "code",
   "execution_count": 8,
   "metadata": {},
   "outputs": [
    {
     "data": {
      "text/plain": [
       "fuel_needs"
      ]
     },
     "execution_count": 8,
     "metadata": {},
     "output_type": "execute_result"
    }
   ],
   "source": [
    "\"\"\"\n",
    "Returns the approx fuel needs of an engine. Turbo engines run richer\n",
    "and burn more fuel per power level therefore a turbo parameter is required.\n",
    "\"\"\"\n",
    "function fuel_needs(power::Unitful.Power, turbo::Bool=false)\n",
    "    power_hp = uconvert(u\"HP\", power);\n",
    "    if(turbo)\n",
    "        BSFC_turbo = mean([0.55u\"lb/(HP*hr)\", 0.7u\"lb/(HP*hr)\"]);\n",
    "        BSFC_turbo * power_hp;\n",
    "    else\n",
    "        BSFC_na = mean([0.3u\"lb/(HP*hr)\", 0.5u\"lb/(HP*hr)\"]);\n",
    "        BSFC_na * power_hp;\n",
    "    end\n",
    "end"
   ]
  },
  {
   "cell_type": "code",
   "execution_count": 9,
   "metadata": {},
   "outputs": [
    {
     "data": {
      "text/plain": [
       "fuel_needs_per_cylinder"
      ]
     },
     "execution_count": 9,
     "metadata": {},
     "output_type": "execute_result"
    }
   ],
   "source": [
    "\"\"\"\n",
    "Calculates fuel needs per cylinder. Margin is recommended to be 20% or 0.2 for safety.\n",
    "\"\"\"\n",
    "function fuel_needs_per_cylinder(power::Unitful.Power, turbo::Bool=false, cylinders::Int=4, margin=0.2) \n",
    "    return fuel_needs(power, turbo) * (1+margin) / cylinders\n",
    "end"
   ]
  },
  {
   "cell_type": "markdown",
   "metadata": {},
   "source": [
    "Calculate minimum injector size in `cc/min` required to hit a goal power level. Mess with target power level to see what size injectors we need."
   ]
  },
  {
   "cell_type": "code",
   "execution_count": 10,
   "metadata": {},
   "outputs": [
    {
     "data": {
      "text/plain": [
       "283.4976471880492 cm^3 minute^-1"
      ]
     },
     "execution_count": 10,
     "metadata": {},
     "output_type": "execute_result"
    }
   ],
   "source": [
    "inj_size_min = fuel_needs_per_cylinder(150u\"HP\", true, lancia_cylinders) |> gas_lb_cc"
   ]
  },
  {
   "cell_type": "markdown",
   "metadata": {},
   "source": [
    "Test here to see what the calculator would recommend for the subaru. At 520BHP it's recommending ~1000cc injectors. Actually uses 1300ccs so has some extra capacity."
   ]
  },
  {
   "cell_type": "code",
   "execution_count": 11,
   "metadata": {},
   "outputs": [
    {
     "data": {
      "text/plain": [
       "982.7918435852372 cm^3 minute^-1"
      ]
     },
     "execution_count": 11,
     "metadata": {},
     "output_type": "execute_result"
    }
   ],
   "source": [
    "fuel_needs_per_cylinder(520u\"HP\", true, 4) |> gas_lb_cc"
   ]
  },
  {
   "cell_type": "markdown",
   "metadata": {},
   "source": [
    "## Fuel Pressure Change Calculation\n",
    "If we ran the current injectors at an increased pressure, what kind of power could we make?\n",
    "\n",
    "We also need to consider max fuel pump pressure. Fuel rail pressure plus boost  pressure needs to be less than max fuel pump pressure, so we can't go too high with fuel rail pressure."
   ]
  },
  {
   "cell_type": "code",
   "execution_count": 12,
   "metadata": {},
   "outputs": [
    {
     "data": {
      "text/plain": [
       "flow_rate"
      ]
     },
     "execution_count": 12,
     "metadata": {},
     "output_type": "execute_result"
    }
   ],
   "source": [
    "\" Calculates change in flow rate for injector from stock to given pressure\"\n",
    "flow_rate(pressure::Unitful.Pressure, nom_flow::VolumeFlow) = gas_cc_lb(nom_flow) * sqrt(pressure / injector_pres_nom) |> gas_lb_cc"
   ]
  },
  {
   "cell_type": "code",
   "execution_count": 13,
   "metadata": {},
   "outputs": [
    {
     "data": {
      "text/plain": [
       "92.67006943369162 HP"
      ]
     },
     "execution_count": 13,
     "metadata": {},
     "output_type": "execute_result"
    }
   ],
   "source": [
    "lancia_flowrate_4bar = flow_rate(4u\"bar\", lancia_injector_maxf)\n",
    "max_power(lancia_flowrate_4bar, true)"
   ]
  },
  {
   "cell_type": "code",
   "execution_count": 14,
   "metadata": {},
   "outputs": [
    {
     "data": {
      "text/plain": [
       "103.60828736667997 HP"
      ]
     },
     "execution_count": 14,
     "metadata": {},
     "output_type": "execute_result"
    }
   ],
   "source": [
    "lancia_flowrate_5bar = flow_rate(5u\"bar\", lancia_injector_maxf)\n",
    "max_power(lancia_flowrate_5bar, true)"
   ]
  },
  {
   "cell_type": "code",
   "execution_count": 15,
   "metadata": {},
   "outputs": [
    {
     "data": {
      "text/plain": [
       "72.51886886510462 psi"
      ]
     },
     "execution_count": 15,
     "metadata": {},
     "output_type": "execute_result"
    }
   ],
   "source": [
    "5u\"bar\" |> u\"psi\""
   ]
  },
  {
   "cell_type": "markdown",
   "metadata": {},
   "source": [
    "Based on fuel pump max pressure and boost pressure, our rail pressure is limited. Calculate max power given this restriction."
   ]
  },
  {
   "cell_type": "code",
   "execution_count": 16,
   "metadata": {},
   "outputs": [
    {
     "data": {
      "text/plain": [
       "max_rail_pressure (generic function with 1 method)"
      ]
     },
     "execution_count": 16,
     "metadata": {},
     "output_type": "execute_result"
    }
   ],
   "source": [
    "function max_rail_pressure(max_pump_pressure::Unitful.Pressure, max_boost::Unitful.Pressure)\n",
    "    # TODO: lines will have some resistance, maybe add another safety factor here?\n",
    "    return max_pump_pressure - max_boost;\n",
    "end"
   ]
  },
  {
   "cell_type": "code",
   "execution_count": 17,
   "metadata": {},
   "outputs": [
    {
     "data": {
      "text/plain": [
       "62 psi"
      ]
     },
     "execution_count": 17,
     "metadata": {},
     "output_type": "execute_result"
    }
   ],
   "source": [
    "lancia_max_rail_pressure = max_rail_pressure(lancia_fuel_pump_maxp, lancia_max_boost)"
   ]
  },
  {
   "cell_type": "code",
   "execution_count": 18,
   "metadata": {},
   "outputs": [
    {
     "data": {
      "text/plain": [
       "95.79984997301294 HP"
      ]
     },
     "execution_count": 18,
     "metadata": {},
     "output_type": "execute_result"
    }
   ],
   "source": [
    "lancia_flowrate_max = flow_rate(lancia_max_rail_pressure, lancia_injector_maxf)\n",
    "lancia_max_power = max_power(lancia_flowrate_max, true)"
   ]
  },
  {
   "cell_type": "markdown",
   "metadata": {},
   "source": [
    "end"
   ]
  },
  {
   "cell_type": "code",
   "execution_count": null,
   "metadata": {},
   "outputs": [],
   "source": []
  }
 ],
 "metadata": {
  "kernelspec": {
   "display_name": "Julia 1.7.1",
   "language": "julia",
   "name": "julia-1.7"
  },
  "language_info": {
   "file_extension": ".jl",
   "mimetype": "application/julia",
   "name": "julia",
   "version": "1.7.1"
  }
 },
 "nbformat": 4,
 "nbformat_minor": 4
}
