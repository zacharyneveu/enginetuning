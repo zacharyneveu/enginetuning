{
 "cells": [
  {
   "cell_type": "markdown",
   "metadata": {},
   "source": [
    "# Lancia Tuning Basic Calculators"
   ]
  },
  {
   "cell_type": "code",
   "execution_count": 1,
   "metadata": {},
   "outputs": [],
   "source": [
    "using Unitful\n",
    "using UnitfulUS\n",
    "using Statistics"
   ]
  },
  {
   "cell_type": "code",
   "execution_count": 2,
   "metadata": {},
   "outputs": [
    {
     "data": {
      "text/plain": [
       "HP"
      ]
     },
     "execution_count": 2,
     "metadata": {},
     "output_type": "execute_result"
    }
   ],
   "source": [
    "# Register jupyter notebook as a source of units \n",
    "# for new units we define\n",
    "Unitful.register(Main);\n",
    "@unit HP \"HP\" Horsepower 0.7456999*u\"kW\" false"
   ]
  },
  {
   "cell_type": "code",
   "execution_count": 3,
   "metadata": {},
   "outputs": [],
   "source": [
    "lancia_ccs = 1756u\"cm^3\";\n",
    "lancia_cylinders = 4;\n",
    "lancia_injector_maxf = 158u\"cm^3/minute\";"
   ]
  },
  {
   "cell_type": "code",
   "execution_count": 4,
   "metadata": {},
   "outputs": [
    {
     "data": {
      "text/plain": [
       "395000000//157725491 galᵘˢ hr^-1"
      ]
     },
     "execution_count": 4,
     "metadata": {},
     "output_type": "execute_result"
    }
   ],
   "source": [
    "uconvert(u\"gal_us/hr\", lancia_injector_maxf)"
   ]
  },
  {
   "cell_type": "code",
   "execution_count": 21,
   "metadata": {},
   "outputs": [
    {
     "data": {
      "text/plain": [
       "43.51132131906277 psi"
      ]
     },
     "execution_count": 21,
     "metadata": {},
     "output_type": "execute_result"
    }
   ],
   "source": [
    "stoic_afr_93 = 14.68;\n",
    "injector_pres_nom = 3u\"bar\";\n",
    "gasoline_mass = 6.259u\"lb/gal_us\"\n",
    "uconvert(u\"psi\", injector_pres_nom)"
   ]
  },
  {
   "cell_type": "code",
   "execution_count": 54,
   "metadata": {},
   "outputs": [],
   "source": [
    "gas_lbs_cc(lbs) = u\"cm^3/minute\"(lbs / gasoline_mass);\n",
    "gas_cc_lbs(cc) = u\"gal_us/hr\"(cc) * gasoline_mass;"
   ]
  },
  {
   "cell_type": "markdown",
   "metadata": {},
   "source": [
    "# Injector Calculator\n",
    "\n",
    "BSFC = brake specific fuel consumption - effeciency measure per horsepower of engine\n",
    "\n",
    "## Min Injector size @Stock pressure"
   ]
  },
  {
   "cell_type": "code",
   "execution_count": 6,
   "metadata": {},
   "outputs": [
    {
     "data": {
      "text/plain": [
       "fuel_needs (generic function with 2 methods)"
      ]
     },
     "execution_count": 6,
     "metadata": {},
     "output_type": "execute_result"
    }
   ],
   "source": [
    "function fuel_needs(power::Unitful.Power, turbo=false)\n",
    "    power_hp = uconvert(u\"HP\", power);\n",
    "    if(turbo)\n",
    "        BSFC_turbo = mean([0.55u\"lb/(HP*hr)\", 0.7u\"lb/(HP*hr)\"]);\n",
    "        BSFC_turbo * power_hp;\n",
    "    else\n",
    "        BSFC_na = mean([0.3u\"lb/(HP*hr)\", 0.5u\"lb/(HP*hr)\"]);\n",
    "        BSFC_na * power_hp;\n",
    "    end\n",
    "end"
   ]
  },
  {
   "cell_type": "code",
   "execution_count": 7,
   "metadata": {},
   "outputs": [
    {
     "data": {
      "text/plain": [
       "injector_size (generic function with 3 methods)"
      ]
     },
     "execution_count": 7,
     "metadata": {},
     "output_type": "execute_result"
    }
   ],
   "source": [
    "function injector_size(power::Unitful.Power, cylinders, turbo=false, margin=0.2) \n",
    "    return fuel_needs(power, turbo) * (1+margin) / cylinders\n",
    "end"
   ]
  },
  {
   "cell_type": "code",
   "execution_count": 17,
   "metadata": {},
   "outputs": [
    {
     "data": {
      "text/plain": [
       "28.125 lb hr^-1"
      ]
     },
     "execution_count": 17,
     "metadata": {},
     "output_type": "execute_result"
    }
   ],
   "source": [
    "inj_size_min = injector_size(150u\"HP\", lancia_cylinders, true)"
   ]
  },
  {
   "cell_type": "code",
   "execution_count": 62,
   "metadata": {},
   "outputs": [
    {
     "data": {
      "text/plain": [
       "min_inj_size (generic function with 1 method)"
      ]
     },
     "execution_count": 62,
     "metadata": {},
     "output_type": "execute_result"
    }
   ],
   "source": [
    "min_inj_size(power::Unitful.Power) = injector_size(power, 4, true, 0.2) |> gas_lbs_cc"
   ]
  },
  {
   "cell_type": "code",
   "execution_count": 70,
   "metadata": {},
   "outputs": [
    {
     "data": {
      "text/plain": [
       "302.39749033391917 cm^3 minute^-1"
      ]
     },
     "execution_count": 70,
     "metadata": {},
     "output_type": "execute_result"
    }
   ],
   "source": [
    "min_inj_size(160u\"HP\")"
   ]
  },
  {
   "cell_type": "markdown",
   "metadata": {},
   "source": [
    "## Fuel Pressure Change Calculation"
   ]
  },
  {
   "cell_type": "code",
   "execution_count": 27,
   "metadata": {},
   "outputs": [
    {
     "data": {
      "text/plain": [
       "4 bar"
      ]
     },
     "execution_count": 27,
     "metadata": {},
     "output_type": "execute_result"
    }
   ],
   "source": [
    "final_pressure = 4u\"bar\""
   ]
  },
  {
   "cell_type": "code",
   "execution_count": 29,
   "metadata": {},
   "outputs": [
    {
     "data": {
      "text/plain": [
       "flow_rate (generic function with 1 method)"
      ]
     },
     "execution_count": 29,
     "metadata": {},
     "output_type": "execute_result"
    }
   ],
   "source": [
    "flow_rate(pressure::Unitful.Pressure, nom_flow) = nom_flow * sqrt(pressure / injector_pres_nom)"
   ]
  },
  {
   "cell_type": "code",
   "execution_count": 61,
   "metadata": {},
   "outputs": [
    {
     "data": {
      "text/plain": [
       "182.44268506392174 cm^3 minute^-1"
      ]
     },
     "execution_count": 61,
     "metadata": {},
     "output_type": "execute_result"
    }
   ],
   "source": [
    "flow_rate(4u\"bar\", 158u\"cm^3/minute\" |> gas_cc_lbs) |> gas_lbs_cc"
   ]
  }
 ],
 "metadata": {
  "kernelspec": {
   "display_name": "Julia 1.7.1",
   "language": "julia",
   "name": "julia-1.7"
  },
  "language_info": {
   "file_extension": ".jl",
   "mimetype": "application/julia",
   "name": "julia",
   "version": "1.7.1"
  }
 },
 "nbformat": 4,
 "nbformat_minor": 4
}
