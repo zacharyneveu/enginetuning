{
 "cells": [
  {
   "cell_type": "code",
   "execution_count": 1,
   "id": "111ce5ad-2fcb-4fb8-aff5-1427d7f553ab",
   "metadata": {},
   "outputs": [
    {
     "ename": "BoundsError",
     "evalue": "BoundsError: attempt to access 299-codeunit String at index [1:301]",
     "output_type": "error",
     "traceback": [
      "KERNEL EXCEPTION",
      "BoundsError: attempt to access 299-codeunit String at index [1:301]",
      "",
      "Stacktrace:",
      " [1] checkbounds",
      "   @ ./strings/basic.jl:216 [inlined]",
      " [2] getindex(s::String, r::UnitRange{Int64})",
      "   @ Base ./strings/string.jl:261",
      " [3] complete_request(socket::ZMQ.Socket, msg::IJulia.Msg)",
      "   @ IJulia ~/.julia/packages/IJulia/e8kqU/src/handlers.jl:115",
      " [4] #invokelatest#2",
      "   @ ./essentials.jl:716 [inlined]",
      " [5] invokelatest",
      "   @ ./essentials.jl:714 [inlined]",
      " [6] eventloop(socket::ZMQ.Socket)",
      "   @ IJulia ~/.julia/packages/IJulia/e8kqU/src/eventloop.jl:8",
      " [7] (::IJulia.var\"#15#18\")()",
      "   @ IJulia ./task.jl:423"
     ]
    }
   ],
   "source": [
    "using Unitful\n",
    "using UnitfulUS\n",
    "using Statistics"
   ]
  },
  {
   "cell_type": "code",
   "execution_count": 4,
   "id": "1801c4e5-e55c-48e2-9e7d-18b7cad5b872",
   "metadata": {},
   "outputs": [],
   "source": [
    "# Register jupyter notebook as a source of units \n",
    "# for new units we define\n",
    "Unitful.register(Main);\n",
    "@unit HP \"HP\" Horsepower 0.7456999*u\"kW\" false\n",
    "@unit cc \"cc\" CubicCentimeter 1u\"cm^3\" false\n",
    "@derived_dimension VolumeFlow  Unitful.𝐋^3 / Unitful.𝐓\n",
    "@derived_dimension SpringConstant Unitful.𝐌*Unitful.𝐋/Unitful.𝐓^2 / Unitful.𝐋"
   ]
  },
  {
   "cell_type": "markdown",
   "id": "e1258216-9d86-411a-a5db-972c8c9994a3",
   "metadata": {},
   "source": [
    "## Sprung corner weight\n",
    "+ average suspension/wheel is ~45kg for undriven wheel and ~50kg for driven weel\n",
    "+ If you know that info more precisely, just subtract that from corner weight instead of using this"
   ]
  },
  {
   "cell_type": "code",
   "execution_count": 5,
   "id": "da100cd0-7dde-4c6f-9cdf-f67c63b29b04",
   "metadata": {},
   "outputs": [],
   "source": [
    "sprung_corner_weight(corner_weight::Unitful.Mass, driven::Bool) = driven ? corner_weight - 50u\"kg\" : corner_weight - 45u\"kg\";"
   ]
  },
  {
   "cell_type": "code",
   "execution_count": 6,
   "id": "93f18721-3f55-4102-99d3-b012d0251b30",
   "metadata": {},
   "outputs": [
    {
     "data": {
      "text/plain": [
       "315 kg"
      ]
     },
     "execution_count": 6,
     "metadata": {},
     "output_type": "execute_result"
    }
   ],
   "source": [
    "sprung_corner_weight(365u\"kg\", true)"
   ]
  },
  {
   "cell_type": "markdown",
   "id": "03489895-185f-49e1-8560-ef912c1f5b21",
   "metadata": {},
   "source": [
    "# Target Spring Rate\n",
    "Info largely from: https://youtu.be/MITt8zpQnFw\n",
    "\n",
    "### Motion Ratio\n",
    "Ratio of wheel movement to shock movement. For example, a motion ratio of 1.1:1 means that if the spring moves 1cm the wheel moves 1.1cm. Often different per axel, should calculate separately.\n",
    "### Target Frequency $\\omega$\n",
    "+ <1 for mild road cars\n",
    "+ 1.0-1.5 for sporty street cars\n",
    "+ 1.5-2.5 for low downforce circuit\n",
    "+ 2.0-3.5 for med downforce circuit\n",
    "+ 3.5-4.0 for high downforce circuit"
   ]
  },
  {
   "cell_type": "code",
   "execution_count": 7,
   "id": "6d55245b-41f7-4f69-94d5-c6947a587374",
   "metadata": {},
   "outputs": [
    {
     "data": {
      "text/plain": [
       "target_spring_rate (generic function with 1 method)"
      ]
     },
     "execution_count": 7,
     "metadata": {},
     "output_type": "execute_result"
    }
   ],
   "source": [
    "function target_spring_rate(sprung_corner_mass, target_ω, motion_ratio)\n",
    "    no_mr = sprung_corner_mass * 4π^2 * target_ω^2 |> u\"N/mm\";\n",
    "    return no_mr * motion_ratio^2;\n",
    "end"
   ]
  },
  {
   "cell_type": "code",
   "execution_count": 8,
   "id": "1155154b-e610-4d84-b69c-3439b904adc0",
   "metadata": {},
   "outputs": [
    {
     "data": {
      "text/plain": [
       "368.7814767875209 lbf inch^-1"
      ]
     },
     "execution_count": 8,
     "metadata": {},
     "output_type": "execute_result"
    }
   ],
   "source": [
    "target_spring_rate(338u\"kg\", 2u\"Hz\", 1.1) |> u\"lbf/inch\""
   ]
  },
  {
   "cell_type": "markdown",
   "id": "7b540ea6-f6b4-4c05-901c-c3311c46b164",
   "metadata": {},
   "source": [
    "# Cutting Springs"
   ]
  },
  {
   "cell_type": "code",
   "execution_count": 9,
   "id": "3e4b3a70-dd7a-4680-9875-044e9dd6a369",
   "metadata": {},
   "outputs": [
    {
     "data": {
      "text/plain": [
       "cut_spring_rate (generic function with 1 method)"
      ]
     },
     "execution_count": 9,
     "metadata": {},
     "output_type": "execute_result"
    }
   ],
   "source": [
    "function cut_spring_rate(old_rate::SpringConstant, old_length::Unitful.Length, new_length::Unitful.Length)\n",
    "    return old_rate * old_length / new_length;\n",
    "end"
   ]
  },
  {
   "cell_type": "code",
   "execution_count": 12,
   "id": "14302203-1273-4ac1-b835-3c09d0913862",
   "metadata": {},
   "outputs": [
    {
     "data": {
      "text/plain": [
       "401.45454545454544 lbf inch^-1"
      ]
     },
     "execution_count": 12,
     "metadata": {},
     "output_type": "execute_result"
    }
   ],
   "source": [
    "cut_spring_rate(368u\"lbf/inch\", 12u\"inch\", 11u\"inch\")"
   ]
  },
  {
   "cell_type": "code",
   "execution_count": null,
   "id": "67050c10-25b9-4765-92f8-55f62bc3933f",
   "metadata": {},
   "outputs": [],
   "source": []
  }
 ],
 "metadata": {
  "kernelspec": {
   "display_name": "Julia 1.7.2",
   "language": "julia",
   "name": "julia-1.7"
  },
  "language_info": {
   "file_extension": ".jl",
   "mimetype": "application/julia",
   "name": "julia",
   "version": "1.7.2"
  }
 },
 "nbformat": 4,
 "nbformat_minor": 5
}
