{
 "cells": [
  {
   "cell_type": "code",
   "execution_count": 1,
   "metadata": {},
   "outputs": [],
   "source": [
    "using Unitful\n",
    "using UnitfulUS"
   ]
  },
  {
   "cell_type": "code",
   "execution_count": 2,
   "metadata": {},
   "outputs": [],
   "source": [
    "# Register jupyter notebook as a source of units \n",
    "# for new units we define\n",
    "Unitful.register(Main);\n",
    "@unit HP \"HP\" Horsepower 0.7456999*u\"kW\" false\n",
    "@unit cc \"cc\" CubicCentimeter 1u\"cm^3\" false\n",
    "@unit ci \"ci\" CubicInch 1u\"inch^3\" false\n",
    "@derived_dimension VolumeFlow  Unitful.𝐋^3 / Unitful.𝐓"
   ]
  },
  {
   "cell_type": "markdown",
   "metadata": {},
   "source": [
    "## AFR / Lambda & Fuel Blends\n",
    "\n",
    "TODO: store fuels so they can be accesed as `Fuels.ethanol.stoic_afr` rather than `stoic_afrs[\"ethanol\"]`"
   ]
  },
  {
   "cell_type": "code",
   "execution_count": 3,
   "metadata": {},
   "outputs": [
    {
     "data": {
      "text/plain": [
       "Dict{String, Float64} with 4 entries:\n",
       "  \"ethanol\"  => 9.0\n",
       "  \"gas\"      => 14.7\n",
       "  \"diesel\"   => 14.5\n",
       "  \"methanol\" => 6.47"
      ]
     },
     "execution_count": 3,
     "metadata": {},
     "output_type": "execute_result"
    }
   ],
   "source": [
    "const stoic_afrs = Dict([\n",
    "    \"methanol\" => 6.47,\n",
    "    \"ethanol\" => 9.00,\n",
    "    \"diesel\" => 14.5,\n",
    "    \"gas\" => 14.7\n",
    "])"
   ]
  },
  {
   "cell_type": "code",
   "execution_count": 4,
   "metadata": {},
   "outputs": [],
   "source": [
    "λ(afr::Real, afr_stoic::Real) = afr / afr_stoic;\n",
    "λ(afr::Real, fuel = \"gas\") = afr / stoic_afrs[fuel];\n",
    "afr(λ::Real, fuel=\"gas\") = λ * stoic_afrs[fuel];\n",
    "afr(λ::Real, afr_stoic::Real) = λ * afr_stoic;"
   ]
  },
  {
   "cell_type": "code",
   "execution_count": 5,
   "metadata": {},
   "outputs": [],
   "source": [
    "E(pct) = (pct/100) * stoic_afrs[\"ethanol\"] + (1 - (pct/100)) * stoic_afrs[\"gas\"];"
   ]
  },
  {
   "cell_type": "code",
   "execution_count": 6,
   "metadata": {},
   "outputs": [
    {
     "data": {
      "text/plain": [
       "0.8492569002123141"
      ]
     },
     "execution_count": 6,
     "metadata": {},
     "output_type": "execute_result"
    }
   ],
   "source": [
    "λ(12.0, E(10))"
   ]
  },
  {
   "cell_type": "code",
   "execution_count": 148,
   "metadata": {},
   "outputs": [
    {
     "data": {
      "text/plain": [
       "11.304000000000002"
      ]
     },
     "execution_count": 148,
     "metadata": {},
     "output_type": "execute_result"
    }
   ],
   "source": [
    "afr(0.8, E(10))"
   ]
  },
  {
   "cell_type": "markdown",
   "metadata": {},
   "source": [
    "## Boost and Power"
   ]
  },
  {
   "cell_type": "code",
   "execution_count": 13,
   "metadata": {},
   "outputs": [
    {
     "data": {
      "text/plain": [
       "boost_needs (generic function with 1 method)"
      ]
     },
     "execution_count": 13,
     "metadata": {},
     "output_type": "execute_result"
    }
   ],
   "source": [
    "\"\"\"\n",
    "Garbage calculation grabbed from: https://bit.ly/3oUG6sA\n",
    "\"\"\"\n",
    "function air_needs(hp_goal::Unitful.Power, \n",
    "        afr::Real, \n",
    "        bsfc)\n",
    "    # mass_air_flow = air lbs / minute\n",
    "    mass_air_flow = hp_goal * afr * (bsfc |> u\"lbf/hr/HP\") # power * air / fuel * (fuel/min) / power = \n",
    "    return mass_air_flow;\n",
    "end\n",
    "function boost_needs(hp_goal::Unitful.Power, \n",
    "        afr::Real, \n",
    "        bsfc, \n",
    "        charge_temp::Unitful.Temperature, \n",
    "        ve::Real, \n",
    "        max_rpm::Unitful.Frequency, \n",
    "        displacement::Unitful.Volume)\n",
    "    mass_air_flow = air_needs(hp_goal, afr, bsfc) |> u\"lbf/minute\";\n",
    "    gas_constant_r = 639.6u\"inch^3/Ra/inch^2\";\n",
    "    charge_temp_absolute = charge_temp |> u\"Ra\"; # absolute Rankine/Fahrenheit\n",
    "    # MAPreq = [(R*Wa*(460+Tm)]/(Vd*N/2*VE)\n",
    "    # top is volume flow rate - MAF * temp correction factor using ideal gas law\n",
    "    # PV/t = N/tRT - pressure * volume\n",
    "    # units - lbs/min * ? * Ra = PSI*ft^3/min\n",
    "    required_pressure_top = mass_air_flow * gas_constant_r * charge_temp_absolute;\n",
    "    # bottom is air capacity per time - cc/min - divide by 2 revolutions per fill for 4 stroke\n",
    "    required_pressure_bot = displacement * max_rpm / 2 * ve;\n",
    "    required_MAP = required_pressure_top / required_pressure_bot;\n",
    "    boost = required_MAP - 1u\"atm\";\n",
    "    return boost |> u\"psi\";\n",
    "end"
   ]
  },
  {
   "cell_type": "code",
   "execution_count": 21,
   "metadata": {},
   "outputs": [
    {
     "data": {
      "text/plain": [
       "11.2379947811953 psi"
      ]
     },
     "execution_count": 21,
     "metadata": {},
     "output_type": "execute_result"
    }
   ],
   "source": [
    "boost_needs(150u\"HP\", \n",
    "    12.0, \n",
    "    0.7u\"lbf/hr/HP\", \n",
    "    130u\"°F\", \n",
    "    0.95, \n",
    "    6000u\"rpm\", \n",
    "    1756u\"cc\"\n",
    ")"
   ]
  },
  {
   "cell_type": "code",
   "execution_count": 20,
   "metadata": {},
   "outputs": [
    {
     "data": {
      "text/plain": [
       "18.0 lbf minute^-1"
      ]
     },
     "execution_count": 20,
     "metadata": {},
     "output_type": "execute_result"
    }
   ],
   "source": [
    "air_needs(150u\"HP\", 12.0, 0.6u\"lbf/hr/HP\") |> u\"lbf/minute\""
   ]
  }
 ],
 "metadata": {
  "kernelspec": {
   "display_name": "Julia 1.7.1",
   "language": "julia",
   "name": "julia-1.7"
  },
  "language_info": {
   "file_extension": ".jl",
   "mimetype": "application/julia",
   "name": "julia",
   "version": "1.7.1"
  }
 },
 "nbformat": 4,
 "nbformat_minor": 4
}
