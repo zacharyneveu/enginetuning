{
 "cells": [
  {
   "cell_type": "markdown",
   "id": "b504f44e-f9b3-4c1d-8494-c1001dc6899e",
   "metadata": {},
   "source": [
    "# Gearing and Speed"
   ]
  },
  {
   "cell_type": "code",
   "execution_count": 28,
   "id": "5b8ca425-d6f7-4ea9-a354-cc2c28cfaacb",
   "metadata": {},
   "outputs": [],
   "source": [
    "using Unitful"
   ]
  },
  {
   "cell_type": "code",
   "execution_count": 66,
   "id": "ddd7b207-afab-476a-8cd0-b12aefd4839e",
   "metadata": {},
   "outputs": [],
   "source": [
    "# Register jupyter notebook as a source of units \n",
    "# for new units we define\n",
    "Unitful.register(Main);\n",
    "@derived_dimension InverseTime dimension(u\"rpm\")"
   ]
  },
  {
   "cell_type": "code",
   "execution_count": 204,
   "id": "77073b10-e630-49f9-9869-c0debe541128",
   "metadata": {},
   "outputs": [],
   "source": [
    "gear_ratios = [\n",
    "    3.50,\n",
    "    2.23,\n",
    "    1.52,\n",
    "    1.15,\n",
    "    0.925\n",
    "];"
   ]
  },
  {
   "cell_type": "code",
   "execution_count": 209,
   "id": "871f43f9-1b42-4448-ac41-35ceccbd3e97",
   "metadata": {},
   "outputs": [],
   "source": [
    "wheel_size = 14u\"inch\";\n",
    "tire_width = 195u\"mm\";\n",
    "tire_ratio = .6;\n",
    "diff_ratio = 52/14;\n",
    "redline = 6000u\"rpm\";"
   ]
  },
  {
   "cell_type": "code",
   "execution_count": 127,
   "id": "21004ea8-fad3-463e-a971-119dde2970ea",
   "metadata": {},
   "outputs": [],
   "source": [
    "tire_thickness = tire_width * tire_ratio;\n",
    "wheel_and_tire_diameter = wheel_size + 2 * tire_thickness;\n",
    "wheel_circumference = π * wheel_and_tire_diameter;"
   ]
  },
  {
   "cell_type": "code",
   "execution_count": 189,
   "id": "d9681e28-2872-479a-8e55-7fc8aa757350",
   "metadata": {},
   "outputs": [
    {
     "data": {
      "text/plain": [
       "speed"
      ]
     },
     "execution_count": 189,
     "metadata": {},
     "output_type": "execute_result"
    }
   ],
   "source": [
    "\"\"\"\n",
    "Get the speed given engine RPMs, tire circumference, and gear/diff ratios\n",
    "\"\"\"\n",
    "function speed(engine_tach::InverseTime, wheel_circumference::Unitful.Length, gear_ratio::Number, diff_ratio::Number)\n",
    "    # 2pi needed because of unitful bug\n",
    "    axle_speed = engine_tach / 2π / (gear_ratio * diff_ratio)\n",
    "    return (axle_speed * wheel_circumference) |> u\"mi/hr\"\n",
    "end"
   ]
  },
  {
   "cell_type": "code",
   "execution_count": 210,
   "id": "f77c10fc-2780-4ba9-b604-becc6920753e",
   "metadata": {},
   "outputs": [
    {
     "data": {
      "text/plain": [
       "5-element Vector{Quantity{Float64, 𝐋 𝐓⁻¹, Unitful.FreeUnits{(hr⁻¹, mi), 𝐋 𝐓⁻¹, nothing}}}:\n",
       " 31.872608690265924 mi hr⁻¹\n",
       "  50.02427372911692 mi hr⁻¹\n",
       "  73.39087527363864 mi hr⁻¹\n",
       "  97.00359166602672 mi hr⁻¹\n",
       "  120.5990599091143 mi hr⁻¹"
      ]
     },
     "execution_count": 210,
     "metadata": {},
     "output_type": "execute_result"
    }
   ],
   "source": [
    "gear_top_speeds = [speed(redline, wheel_circumference, gear_ratios[x], diff_ratio) for x in 1:5]"
   ]
  },
  {
   "cell_type": "code",
   "execution_count": null,
   "id": "3d6877a8-3ba0-42b9-9ee0-56a638f05f4d",
   "metadata": {},
   "outputs": [],
   "source": []
  }
 ],
 "metadata": {
  "kernelspec": {
   "display_name": "Julia (4 threads) 1.8.5",
   "language": "julia",
   "name": "julia-_4-threads_-1.8"
  },
  "language_info": {
   "file_extension": ".jl",
   "mimetype": "application/julia",
   "name": "julia",
   "version": "1.8.5"
  }
 },
 "nbformat": 4,
 "nbformat_minor": 5
}
